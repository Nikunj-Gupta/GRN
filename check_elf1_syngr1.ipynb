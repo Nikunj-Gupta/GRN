{
 "cells": [
  {
   "cell_type": "code",
   "execution_count": 1,
   "id": "e64ca7eb",
   "metadata": {},
   "outputs": [],
   "source": [
    "import GEOparse \n",
    "import pandas as pd, numpy as np \n",
    "import glob \n",
    "from pprint import pprint "
   ]
  },
  {
   "cell_type": "code",
   "execution_count": 2,
   "id": "6e85c498",
   "metadata": {},
   "outputs": [
    {
     "name": "stdout",
     "output_type": "stream",
     "text": [
      "['./datasets/soft_files/GSE32591_family.soft.gz',\n",
      " './datasets/soft_files/GSE45291_family.soft.gz',\n",
      " './datasets/soft_files/GSE11857_family.soft.gz',\n",
      " './datasets/soft_files/GSE39088_family.soft.gz',\n",
      " './datasets/soft_files/GSE49454_family.soft.gz',\n",
      " './datasets/soft_files/GSE52139_family.soft.gz',\n",
      " './datasets/soft_files/GSE5370_family.soft.gz']\n"
     ]
    }
   ],
   "source": [
    "datasets_path = './datasets/soft_files' \n",
    "datasets = glob.glob(datasets_path+'/*') \n",
    "pprint(datasets)"
   ]
  },
  {
   "cell_type": "code",
   "execution_count": 3,
   "id": "de52d091",
   "metadata": {
    "scrolled": false
   },
   "outputs": [
    {
     "name": "stdout",
     "output_type": "stream",
     "text": [
      "GSE32591_family.soft.gz \t|\t ELF1:  False \t | \tSYNGR1:  False\n",
      "GSE32591_family.soft.gz \t|\t ELF1 (1997):  True \t | \tSYNGR1 (9145):  True\n",
      "\n"
     ]
    },
    {
     "name": "stderr",
     "output_type": "stream",
     "text": [
      "/opt/homebrew/lib/python3.9/site-packages/GEOparse/GEOparse.py:401: DtypeWarning: Columns (2) have mixed types. Specify dtype option on import or set low_memory=False.\n",
      "  return read_csv(StringIO(data), index_col=None, sep=\"\\t\")\n"
     ]
    },
    {
     "name": "stdout",
     "output_type": "stream",
     "text": [
      "GSE45291_family.soft.gz \t|\t ELF1:  False \t | \tSYNGR1:  False\n",
      "GSE45291_family.soft.gz \t|\t ELF1 (1997):  False \t | \tSYNGR1 (9145):  False\n",
      "\n",
      "GSE11857_family.soft.gz \t|\t ELF1:  False \t | \tSYNGR1:  False\n",
      "GSE11857_family.soft.gz \t|\t ELF1 (1997):  False \t | \tSYNGR1 (9145):  False\n",
      "\n"
     ]
    },
    {
     "name": "stderr",
     "output_type": "stream",
     "text": [
      "/opt/homebrew/lib/python3.9/site-packages/GEOparse/GEOparse.py:401: DtypeWarning: Columns (2) have mixed types. Specify dtype option on import or set low_memory=False.\n",
      "  return read_csv(StringIO(data), index_col=None, sep=\"\\t\")\n"
     ]
    },
    {
     "name": "stdout",
     "output_type": "stream",
     "text": [
      "GSE39088_family.soft.gz \t|\t ELF1:  False \t | \tSYNGR1:  False\n",
      "GSE39088_family.soft.gz \t|\t ELF1 (1997):  False \t | \tSYNGR1 (9145):  False\n",
      "\n",
      "GSE49454_family.soft.gz \t|\t ELF1:  False \t | \tSYNGR1:  False\n",
      "GSE49454_family.soft.gz \t|\t ELF1 (1997):  False \t | \tSYNGR1 (9145):  False\n",
      "\n"
     ]
    },
    {
     "name": "stderr",
     "output_type": "stream",
     "text": [
      "/opt/homebrew/lib/python3.9/site-packages/GEOparse/GEOparse.py:401: DtypeWarning: Columns (2) have mixed types. Specify dtype option on import or set low_memory=False.\n",
      "  return read_csv(StringIO(data), index_col=None, sep=\"\\t\")\n"
     ]
    },
    {
     "name": "stdout",
     "output_type": "stream",
     "text": [
      "GSE52139_family.soft.gz \t|\t ELF1:  False \t | \tSYNGR1:  False\n",
      "GSE52139_family.soft.gz \t|\t ELF1 (1997):  False \t | \tSYNGR1 (9145):  False\n",
      "\n",
      "GSE5370_family.soft.gz \t|\t ELF1:  False \t | \tSYNGR1:  False\n",
      "GSE5370_family.soft.gz \t|\t ELF1 (1997):  False \t | \tSYNGR1 (9145):  False\n",
      "\n"
     ]
    }
   ],
   "source": [
    "for data in datasets: \n",
    "    gse = GEOparse.get_GEO(filepath=data, silent=True) \n",
    "    for gsm_name, gsm in gse.gsms.items():\n",
    "        # key = [k for k in ['Gene Symbol', 'ILMN_Gene'] if k in gpl.table.columns][0] \n",
    "        key = 'ID_REF'\n",
    "        print(data.split('/')[-1], \"\\t|\\t ELF1: \", 'ELF1' in gsm.table[key].unique(), \n",
    "              \"\\t | \\tSYNGR1: \", 'SYNGR1' in gsm.table[key].unique()) \n",
    "        print(data.split('/')[-1], \"\\t|\\t ELF1 (1997): \", '1997' in gsm.table[key].unique(), \n",
    "              \"\\t | \\tSYNGR1 (9145): \", '9145' in gsm.table[key].unique()) \n",
    "        print() \n",
    "        break "
   ]
  },
  {
   "cell_type": "markdown",
   "id": "6ea6a0c2",
   "metadata": {},
   "source": [
    "# Manual debugging "
   ]
  },
  {
   "cell_type": "code",
   "execution_count": 9,
   "id": "f97b0f53",
   "metadata": {},
   "outputs": [
    {
     "name": "stderr",
     "output_type": "stream",
     "text": [
      "/opt/homebrew/lib/python3.9/site-packages/GEOparse/GEOparse.py:401: DtypeWarning: Columns (2) have mixed types. Specify dtype option on import or set low_memory=False.\n",
      "  return read_csv(StringIO(data), index_col=None, sep=\"\\t\")\n"
     ]
    }
   ],
   "source": [
    "dataset = './datasets/soft_files/GSE45291_family.soft.gz'\n",
    "gse = GEOparse.get_GEO(filepath=dataset, silent=True) "
   ]
  },
  {
   "cell_type": "code",
   "execution_count": 10,
   "id": "4ffc0641",
   "metadata": {},
   "outputs": [],
   "source": [
    "def check(x): \n",
    "    print(\"ELF1:\", [id_ref for id_ref in x if \"ELF1\" in id_ref]) \n",
    "    print() \n",
    "    print(\"1997:\", [id_ref for id_ref in x if \"1997\" in id_ref]) \n",
    "    print() \n",
    "    print(\"SYNGR1:\", [id_ref for id_ref in x if \"SYNGR1\" in id_ref]) \n",
    "    print() \n",
    "    print(\"9145:\", [id_ref for id_ref in x if \"9145\" in id_ref]) \n",
    "    print() "
   ]
  },
  {
   "cell_type": "code",
   "execution_count": 11,
   "id": "555e9255",
   "metadata": {},
   "outputs": [
    {
     "name": "stdout",
     "output_type": "stream",
     "text": [
      "GSM example:\n",
      "Name:  GSM1100843\n",
      "['1007_PM_s_at' '1053_PM_at' '117_PM_at' ... 'AFFX-TrpnX-3_at'\n",
      " 'AFFX-TrpnX-5_at' 'AFFX-TrpnX-M_at']\n",
      "ELF1: []\n",
      "\n",
      "1997: ['1561997_PM_at', '201997_PM_s_at', '211997_PM_x_at', '219970_PM_at', '219971_PM_at', '219972_PM_s_at', '219973_PM_at', '219974_PM_x_at', '219975_PM_x_at', '219976_PM_at', '219977_PM_at', '219978_PM_s_at', '219979_PM_s_at', '221997_PM_s_at', '231997_PM_at', '241997_PM_at']\n",
      "\n",
      "SYNGR1: []\n",
      "\n",
      "9145: ['1559145_PM_at', '209145_PM_s_at', '219145_PM_at', '229145_PM_at', '239145_PM_at']\n",
      "\n"
     ]
    }
   ],
   "source": [
    "print(\"GSM example:\")\n",
    "for gsm_name, gsm in gse.gsms.items():\n",
    "    print(\"Name: \", gsm_name)\n",
    "    print (gsm.table['ID_REF'].unique())\n",
    "    break \n",
    "check(gsm.table['ID_REF'].unique())"
   ]
  },
  {
   "cell_type": "code",
   "execution_count": 12,
   "id": "748947fa",
   "metadata": {},
   "outputs": [
    {
     "name": "stdout",
     "output_type": "stream",
     "text": [
      "GPL example:\n",
      "Name:  GPL13158\n",
      "Metadata:\n",
      " - title : [HT_HG-U133_Plus_PM] Affymetrix HT HG-U133+ PM Array Plate\n",
      " - geo_accession : GPL13158\n",
      " - status : Public on Feb 11 2011\n",
      " - submission_date : Feb 11 2011\n",
      " - last_update_date : Apr 20 2018\n",
      " - technology : in situ oligonucleotide\n",
      " - distribution : commercial\n",
      " - organism : Homo sapiens\n",
      " - taxid : 9606\n",
      " - manufacturer : Affymetrix\n",
      " - manufacture_protocol : see manufacturer's web site\n",
      " - description : Affymetrix submissions are typically submitted to GEO using the GEOarchive method described at http://www.ncbi.nlm.nih.gov/projects/geo/info/geo_affy.html, , , , Annotations derived from HT_HG-U133_Plus_PM.na31.annot.csv\n",
      " - web_link : http://www.affymetrix.com/browse/products.jsp?navMode=34000&productId=131440&navAction=jump&aId=productsNav#1_1, http://www.affymetrix.com/analysis/index.affx\n",
      " - contact_name : ,,Affymetrix, Inc.\n",
      " - contact_email : geo@ncbi.nlm.nih.gov, support@affymetrix.com\n",
      " - contact_phone : 888-362-2447\n",
      " - contact_institute : Affymetrix, Inc.\n",
      " - contact_address : \n",
      " - contact_city : Santa Clara\n",
      " - contact_state : CA\n",
      " - contact_zip/postal_code : 95051\n",
      " - contact_country : USA\n",
      " - contact_web_link : http://www.affymetrix.com/index.affx\n",
      " - relation : Alternative to: GPL15798 (Alternative CDF), Alternative to: GPL17295 (HTHGU133PlusPM_Hs_ENTREZG_v15), Alternative to: GPL19309 (alternative CDF: HTHGU133PlusPM_Hs_ENTREZG_v15.1.0), Alternative to: GPL24915 (custom CDF)\n",
      " - data_row_count : 54715\n",
      "Table data:\n",
      "                    ID  GB_ACC    SPOT_ID Species Scientific Name  \\\n",
      "0         1007_PM_s_at  U48705        NaN            Homo sapiens   \n",
      "1           1053_PM_at  M87338        NaN            Homo sapiens   \n",
      "2            117_PM_at  X51757        NaN            Homo sapiens   \n",
      "3            121_PM_at  X69699        NaN            Homo sapiens   \n",
      "4         1255_PM_g_at  L36861        NaN            Homo sapiens   \n",
      "...                ...     ...        ...                     ...   \n",
      "54710   AFFX-ThrX-5_at     NaN  --Control            Homo sapiens   \n",
      "54711   AFFX-ThrX-M_at     NaN  --Control            Homo sapiens   \n",
      "54712  AFFX-TrpnX-3_at     NaN  --Control            Homo sapiens   \n",
      "54713  AFFX-TrpnX-5_at     NaN  --Control            Homo sapiens   \n",
      "54714  AFFX-TrpnX-M_at     NaN  --Control            Homo sapiens   \n",
      "\n",
      "      Annotation Date      Sequence Type                  Sequence Source  \\\n",
      "0        Aug 20, 2010  Exemplar sequence  Affymetrix Proprietary Database   \n",
      "1        Aug 20, 2010  Exemplar sequence                          GenBank   \n",
      "2        Aug 20, 2010  Exemplar sequence  Affymetrix Proprietary Database   \n",
      "3        Aug 20, 2010  Exemplar sequence                          GenBank   \n",
      "4        Aug 20, 2010  Exemplar sequence  Affymetrix Proprietary Database   \n",
      "...               ...                ...                              ...   \n",
      "54710    Aug 20, 2010   Control sequence  Affymetrix Proprietary Database   \n",
      "54711    Aug 20, 2010   Control sequence  Affymetrix Proprietary Database   \n",
      "54712    Aug 20, 2010   Control sequence  Affymetrix Proprietary Database   \n",
      "54713    Aug 20, 2010   Control sequence  Affymetrix Proprietary Database   \n",
      "54714    Aug 20, 2010   Control sequence  Affymetrix Proprietary Database   \n",
      "\n",
      "                                      Target Description  \\\n",
      "0      U48705 /FEATURE=mRNA /DEFINITION=HSU48705 Huma...   \n",
      "1      M87338 /FEATURE= /DEFINITION=HUMA1SBU Human re...   \n",
      "2      X51757 /FEATURE=cds /DEFINITION=HSP70B Human h...   \n",
      "3      X69699 /FEATURE= /DEFINITION=HSPAX8A H.sapiens...   \n",
      "4      L36861 /FEATURE=expanded_cds /DEFINITION=HUMGC...   \n",
      "...                                                  ...   \n",
      "54710  B. subtilis /GEN=thrC /DB_XREF=gb:X04603.1 /NO...   \n",
      "54711  B. subtilis /GEN=thrC, thrB /DB_XREF=gb:X04603...   \n",
      "54712  B. subtilis /GEN=trpC, trpF /DB_XREF=gb:K01391...   \n",
      "54713  B. subtilis /GEN=trpE, trpD /DB_XREF=gb:K01391...   \n",
      "54714  B. subtilis /GEN=trpD, trpC /DB_XREF=gb:K01391...   \n",
      "\n",
      "      Representative Public ID                                   Gene Title  \\\n",
      "0                       U48705  discoidin domain receptor tyrosine kinase 1   \n",
      "1                       M87338  replication factor C (activator 1) 2, 40kDa   \n",
      "2                       X51757         heat shock 70kDa protein 6 (HSP70B')   \n",
      "3                       X69699                                 paired box 8   \n",
      "4                       L36861      guanylate cyclase activator 1A (retina)   \n",
      "...                        ...                                          ...   \n",
      "54710              AFFX-ThrX-5                                          NaN   \n",
      "54711              AFFX-ThrX-M                                          NaN   \n",
      "54712             AFFX-TrpnX-3                                          NaN   \n",
      "54713             AFFX-TrpnX-5                                          NaN   \n",
      "54714             AFFX-TrpnX-M                                          NaN   \n",
      "\n",
      "      Gene Symbol ENTREZ_GENE_ID  \\\n",
      "0            DDR1            780   \n",
      "1            RFC2           5982   \n",
      "2           HSPA6           3310   \n",
      "3            PAX8           7849   \n",
      "4          GUCA1A           2978   \n",
      "...           ...            ...   \n",
      "54710         NaN            NaN   \n",
      "54711         NaN            NaN   \n",
      "54712         NaN            NaN   \n",
      "54713         NaN            NaN   \n",
      "54714         NaN            NaN   \n",
      "\n",
      "                                    RefSeq Transcript ID  \\\n",
      "0                  NM_001954 /// NM_013993 /// NM_013994   \n",
      "1                                NM_002914 /// NM_181471   \n",
      "2                                              NM_002155   \n",
      "3      NM_003466 /// NM_013951 /// NM_013952 /// NM_0...   \n",
      "4                                              NM_000409   \n",
      "...                                                  ...   \n",
      "54710                                                NaN   \n",
      "54711                                                NaN   \n",
      "54712                                                NaN   \n",
      "54713                                                NaN   \n",
      "54714                                                NaN   \n",
      "\n",
      "                        Gene Ontology Biological Process  \\\n",
      "0      0001558 // regulation of cell growth // inferr...   \n",
      "1      0006260 // DNA replication // not recorded ///...   \n",
      "2      0006950 // response to stress // inferred from...   \n",
      "3      0001656 // metanephros development // inferred...   \n",
      "4      0007165 // signal transduction // non-traceabl...   \n",
      "...                                                  ...   \n",
      "54710  0006520 // cellular amino acid metabolic proce...   \n",
      "54711  0006520 // cellular amino acid metabolic proce...   \n",
      "54712  0000105 // histidine biosynthetic process // i...   \n",
      "54713  0000105 // histidine biosynthetic process // i...   \n",
      "54714  0000105 // histidine biosynthetic process // i...   \n",
      "\n",
      "                        Gene Ontology Cellular Component  \\\n",
      "0      0005576 // extracellular region // inferred fr...   \n",
      "1      0005634 // nucleus // inferred from electronic...   \n",
      "2                                                    NaN   \n",
      "3      0005634 // nucleus // inferred from electronic...   \n",
      "4      0016020 // membrane // inferred from electroni...   \n",
      "...                                                  ...   \n",
      "54710  0005737 // cytoplasm // inferred from electron...   \n",
      "54711  0005737 // cytoplasm // inferred from electron...   \n",
      "54712                                                NaN   \n",
      "54713                                                NaN   \n",
      "54714                                                NaN   \n",
      "\n",
      "                        Gene Ontology Molecular Function  \n",
      "0      0000166 // nucleotide binding // inferred from...  \n",
      "1      0000166 // nucleotide binding // inferred from...  \n",
      "2      0000166 // nucleotide binding // inferred from...  \n",
      "3      0003677 // DNA binding // inferred from direct...  \n",
      "4      0005509 // calcium ion binding // inferred fro...  \n",
      "...                                                  ...  \n",
      "54710  0000166 // nucleotide binding // inferred from...  \n",
      "54711  0000166 // nucleotide binding // inferred from...  \n",
      "54712  0003824 // catalytic activity // inferred from...  \n",
      "54713  0003824 // catalytic activity // inferred from...  \n",
      "54714  0003824 // catalytic activity // inferred from...  \n",
      "\n",
      "[54715 rows x 16 columns]\n",
      "Index(['ID', 'GB_ACC', 'SPOT_ID', 'Species Scientific Name', 'Annotation Date',\n",
      "       'Sequence Type', 'Sequence Source', 'Target Description',\n",
      "       'Representative Public ID', 'Gene Title', 'Gene Symbol',\n",
      "       'ENTREZ_GENE_ID', 'RefSeq Transcript ID',\n",
      "       'Gene Ontology Biological Process', 'Gene Ontology Cellular Component',\n",
      "       'Gene Ontology Molecular Function'],\n",
      "      dtype='object')\n"
     ]
    }
   ],
   "source": [
    "print(\"GPL example:\")\n",
    "for gpl_name, gpl in gse.gpls.items():\n",
    "    print(\"Name: \", gpl_name)\n",
    "    print(\"Metadata:\",)\n",
    "    for key, value in gpl.metadata.items():\n",
    "        print(\" - %s : %s\" % (key, \", \".join(value)))\n",
    "    print(\"Table data:\",)\n",
    "    print(gpl.table) \n",
    "    print(gpl.table.columns)\n",
    "    break"
   ]
  },
  {
   "cell_type": "code",
   "execution_count": 14,
   "id": "5cad65c2",
   "metadata": {},
   "outputs": [
    {
     "name": "stdout",
     "output_type": "stream",
     "text": [
      "ELF1: ['CELF1', 'ELF1']\n",
      "\n",
      "1997: []\n",
      "\n",
      "SYNGR1: ['SYNGR1']\n",
      "\n",
      "9145: ['LOC91450']\n",
      "\n"
     ]
    }
   ],
   "source": [
    "check(list(gpl.table['Gene Symbol'].fillna('nan').unique())) \n",
    "gpl.table[]['ID']"
   ]
  },
  {
   "cell_type": "code",
   "execution_count": 13,
   "id": "085b5f78",
   "metadata": {
    "scrolled": false
   },
   "outputs": [
    {
     "name": "stdout",
     "output_type": "stream",
     "text": [
      "ELF1: []\n",
      "\n",
      "1997: ['1561997_PM_at', '201997_PM_s_at', '211997_PM_x_at', '219970_PM_at', '219971_PM_at', '219972_PM_s_at', '219973_PM_at', '219974_PM_x_at', '219975_PM_x_at', '219976_PM_at', '219977_PM_at', '219978_PM_s_at', '219979_PM_s_at', '221997_PM_s_at', '231997_PM_at', '241997_PM_at']\n",
      "\n",
      "SYNGR1: []\n",
      "\n",
      "9145: ['1559145_PM_at', '209145_PM_s_at', '219145_PM_at', '229145_PM_at', '239145_PM_at']\n",
      "\n",
      "================================================================\n",
      "ELF1: []\n",
      "\n",
      "1997: ['AB071997', 'BC041997', 'NM_001997', 'U19970', 'AA019977', 'AW071997', 'BE219979', 'AA199717', 'AA601997', 'AI199795']\n",
      "\n",
      "SYNGR1: []\n",
      "\n",
      "9145: ['BM914560', 'AF091453', 'AI391455', 'AF279145', 'AI391459', 'AI991451', 'AI914504', 'AA429145', 'AI991459', 'AW129145']\n",
      "\n",
      "================================================================\n",
      "ELF1: []\n",
      "\n",
      "1997: []\n",
      "\n",
      "SYNGR1: []\n",
      "\n",
      "9145: []\n",
      "\n",
      "================================================================\n",
      "ELF1: []\n",
      "\n",
      "1997: []\n",
      "\n",
      "SYNGR1: []\n",
      "\n",
      "9145: []\n",
      "\n",
      "================================================================\n",
      "ELF1: []\n",
      "\n",
      "1997: []\n",
      "\n",
      "SYNGR1: []\n",
      "\n",
      "9145: []\n",
      "\n",
      "================================================================\n",
      "ELF1: []\n",
      "\n",
      "1997: []\n",
      "\n",
      "SYNGR1: []\n",
      "\n",
      "9145: []\n",
      "\n",
      "================================================================\n",
      "ELF1: []\n",
      "\n",
      "1997: []\n",
      "\n",
      "SYNGR1: []\n",
      "\n",
      "9145: []\n",
      "\n",
      "================================================================\n",
      "ELF1: ['gb:M82882.1 /DB_XREF=gi:180551 /FEA=mRNA /CNT=181 /TID=Hs.154365.0 /TIER=Stack /STK=56 /UG=Hs.154365 /LL=1997 /UG_GENE=ELF1 /UG_TITLE=E74-like factor 1 (ets domain transcription factor) /DEF=Human cis-acting sequence.', 'gb:AL559590 /DB_XREF=gi:12905223 /DB_XREF=AL559590 /CLONE=CS0DJ013YH24 (5 prime) /FEA=mRNA /CNT=181 /TID=Hs.154365.0 /TIER=Stack /STK=28 /UG=Hs.154365 /LL=1997 /UG_GENE=ELF1 /UG_TITLE=E74-like factor 1 (ets domain transcription factor)']\n",
      "\n",
      "1997: ['gb:NM_145297.1 /DB_XREF=gi:21699081 /TID=Hs2.334568.1 /CNT=17 /FEA=FLmRNA /TIER=FL /STK=2 /LL=199777 /UG_GENE=LOC199777 /UG=Hs.334568 /UG_TITLE=similar to DNA-binding protein; zinc finger protein 253 /DEF=Homo sapiens similar to DNA-binding protein; zinc finger protein 253 (LOC199777), mRNA. /FL=gb:BC007116.1 gb:NM_145297.1', 'gb:NM_152656.1 /DB_XREF=gi:22749332 /TID=Hs2.375102.1 /CNT=3 /FEA=FLmRNA /TIER=FL /STK=2 /LL=199714 /UG_GENE=MGC35045 /UG=Hs.375102 /UG_TITLE=hypothetical protein MGC35045 /DEF=Homo sapiens hypothetical protein MGC35045 (MGC35045), mRNA. /FL=gb:BC031875.1 gb:NM_152656.1', 'gb:NM_173544.1 /DB_XREF=gi:27734912 /TID=Hs2.137319.1 /CNT=3 /FEA=FLmRNA /TIER=FL /STK=1 /LL=199786 /UG_GENE=FLJ39802 /UG=Hs.137319 /UG_TITLE=hypothetical protein FLJ39802 /DEF=Homo sapiens hypothetical protein FLJ39802 (FLJ39802), mRNA. /FL=gb:NM_173544.1', 'gb:NM_152659.1 /DB_XREF=gi:22749338 /TID=Hs2.406735.1 /CNT=5 /FEA=FLmRNA /TIER=FL /STK=0 /LL=199775 /UG_GENE=C19orf9 /UG=Hs.406735 /UG_TITLE=chromosome 19 open reading frame 9 /DEF=Homo sapiens chromosome 19 open reading frame 9 (C19orf9), mRNA. /FL=gb:BC021822.1 gb:NM_152659.1', 'gb:AB071997.1 /DB_XREF=gi:21955953 /GEN=nek11S /TID=Hs2.159146.2 /CNT=2 /FEA=FLmRNA /TIER=FL /STK=2 /LL=79858 /UG=Hs.159146 /DEF=Homo sapiens nek11S mRNA for NIMA-related kinase 11S, complete cds. /PROD=NIMA-related kinase 11S /FL=gb:AB071997.1', 'gb:BC033073.1 /DB_XREF=gi:21619977 /TID=Hs2.406261.2 /CNT=8 /FEA=FLmRNA /TIER=FL /STK=1 /LL=5239 /UG_GENE=PGM5 /UG=Hs.406261 /DEF=Homo sapiens, Similar to phosphoglucomutase 5, clone MGC:45624 IMAGE:4123706, mRNA, complete cds. /PROD=Similar to phosphoglucomutase 5 /FL=gb:BC033073.1', 'gb:BC027932.1 /DB_XREF=gi:20381268 /TID=Hs2.22675.1 /CNT=8 /FEA=FLmRNA /TIER=FL /STK=1 /LL=3788 /UG_GENE=KCNS2 /UG=Hs.22675 /DEF=Homo sapiens, potassium voltage-gated channel, delayed-rectifier, subfamily S, member 2, clone MGC:34767 IMAGE:5199736, mRNA, complete cds. /PROD=potassium voltage-gated channel,delayed-rectifier, subfamily S, member 2 /FL=gb:BC027932.1', 'gb:BC016789.1 /DB_XREF=gi:16877031 /TID=Hs2.254271.2 /CNT=5 /FEA=FLmRNA /TIER=FL /STK=1 /LL=219970 /UG_GENE=MGC24009 /UG=Hs.254271 /DEF=Homo sapiens, clone MGC:24011 IMAGE:4091916, mRNA, complete cds. /PROD=Unknown (protein for MGC:24011) /FL=gb:BC016789.1', 'gb:BQ575161 /DB_XREF=gi:21478478 /DB_XREF=UI-H-EZ1-bbb-g-17-0-UI.s1 /CLONE=UI-H-EZ1-bbb-g-17-0-UI /TID=Hs2.199700.1 /CNT=18 /FEA=mRNA /TIER=Stack /STK=8 /UG=Hs.199700 /UG_TITLE=Homo sapiens cDNA FLJ34036 fis, clone FCBBF2005069.', 'gb:BG828817 /DB_XREF=gi:14176416 /DB_XREF=602751393F1 /CLONE=IMAGE:4904159 /TID=Hs2.199700.1 /CNT=18 /FEA=mRNA /TIER=ConsEnd /STK=0 /UG=Hs.199700 /UG_TITLE=Homo sapiens cDNA FLJ34036 fis, clone FCBBF2005069.', 'gb:AA344860 /DB_XREF=gi:1997098 /DB_XREF=EST50793 /TID=Hs2.96838.1 /CNT=4 /FEA=mRNA /TIER=ConsEnd /STK=1 /UG=Hs.96838 /UG_TITLE=Homo sapiens mRNA; cDNA DKFZp313A1942 (from clone DKFZp313A1942)', 'gb:BC041997.1 /DB_XREF=gi:27469485 /TID=Hs2.289922.1 /CNT=6 /FEA=mRNA /TIER=ConsEnd /STK=0 /UG=Hs.289922 /UG_TITLE=Homo sapiens, clone IMAGE:5310819, mRNA /DEF=Homo sapiens, clone IMAGE:5310819, mRNA.', 'gb:AK093450.1 /DB_XREF=gi:21752326 /TID=Hs2.125917.1 /CNT=3 /FEA=mRNA /TIER=ConsEnd /STK=1 /UG=Hs.125917 /UG_TITLE=Homo sapiens cDNA FLJ40198 fis, clone TESTI2019975, weakly similar to TRICHOHYALIN. /DEF=Homo sapiens cDNA FLJ36131 fis, clone TESTI2024586.', 'gb:BC034593.1 /DB_XREF=gi:21961499 /TID=Hs2.381997.1 /CNT=2 /FEA=mRNA /TIER=ConsEnd /STK=1 /UG=Hs.381997 /UG_TITLE=Homo sapiens, clone IMAGE:4837157, mRNA, partial cds /DEF=Homo sapiens, clone IMAGE:4837157, mRNA, partial cds.', 'gb:BI458603 /DB_XREF=gi:15249259 /DB_XREF=603199718F1 /CLONE=IMAGE:5265724 /TID=Hs2.385576.1 /CNT=3 /FEA=mRNA /TIER=ConsEnd /STK=0 /UG=Hs.385576 /UG_TITLE=Homo sapiens, clone IMAGE:5265675, mRNA', 'gb:AK056561.1 /DB_XREF=gi:16551997 /TID=Hs2.437105.1 /CNT=1 /FEA=mRNA /TIER=ConsEnd /STK=0 /LL=170425 /UG_GENE=LOC170425 /UG=Hs.437105 /UG_TITLE=hypothetical protein LOC170425 /DEF=Homo sapiens cDNA FLJ31999 fis, clone NT2RP7009363.', 'gb:AK097585.1 /DB_XREF=gi:21757402 /TID=Hs2.201997.1 /CNT=1 /FEA=mRNA /TIER=ConsEnd /STK=0 /UG=Hs.201997 /UG_TITLE=Homo sapiens cDNA FLJ40266 fis, clone TESTI2026461. /DEF=Homo sapiens cDNA FLJ40266 fis, clone TESTI2026461.', 'gb:NM_001997.1 /DB_XREF=gi:4503658 /GEN=FAU /FEA=FLmRNA /CNT=479 /TID=Hs.177415.0 /TIER=FL+Stack /STK=241 /UG=Hs.177415 /LL=2197 /DEF=Homo sapiens Finkel-Biskis-Reilly murine sarcoma virus (FBR-MuSV) ubiquitously expressed (fox derived); ribosomal protein S30 (FAU), mRNA. /PROD=Finkel-Biskis-Reilly murine sarcoma virus(FBR-MuSV) ubiquitously expressed (fox derived); ribosomalprotein S30 /FL=gb:NM_001997.1', 'gb:NM_014744.1 /DB_XREF=gi:7661997 /GEN=KIAA0210 /FEA=FLmRNA /CNT=225 /TID=Hs.115740.0 /TIER=FL /STK=1 /UG=Hs.115740 /LL=9779 /DEF=Homo sapiens KIAA0210 gene product (KIAA0210), mRNA. /PROD=KIAA0210 gene product /FL=gb:NM_014744.1 gb:D86965.1', 'gb:NM_007080.1 /DB_XREF=gi:5901997 /GEN=LSM6 /FEA=FLmRNA /CNT=64 /TID=Hs.42438.0 /TIER=FL+Stack /STK=30 /UG=Hs.42438 /LL=11157 /DEF=Homo sapiens Sm protein F (LSM6), mRNA. /PROD=Sm protein F /FL=gb:NM_007080.1 gb:AF182292.1', 'gb:NM_001882.2 /DB_XREF=gi:5921997 /GEN=CRHBP /FEA=FLmRNA /CNT=56 /TID=Hs.115617.0 /TIER=FL /STK=0 /UG=Hs.115617 /LL=1393 /DEF=Homo sapiens corticotropin releasing hormone-binding protein (CRHBP), mRNA. /PROD=corticotropin releasing hormone-binding protein /FL=gb:NM_001882.2', 'gb:NM_001869.1 /DB_XREF=gi:4502998 /GEN=CPA2 /FEA=FLmRNA /CNT=38 /TID=Hs.89717.0 /TIER=FL+Stack /STK=10 /UG=Hs.89717 /LL=1358 /DEF=Homo sapiens carboxypeptidase A2 (pancreatic) (CPA2), mRNA. /PROD=carboxypeptidase A2 (pancreatic) /FL=gb:NM_001869.1 gb:U19977.1', 'gb:D10202.1 /DB_XREF=gi:219975 /FEA=FLmRNA /CNT=21 /TID=Hs.46.0 /TIER=FL /STK=1 /UG=Hs.46 /LL=5724 /UG_GENE=PTAFR /DEF=Homo sapiens mRNA for platelet-activating factor receptor, complete cds. /PROD=platelet-activating factor receptor /FL=gb:D10202.1 gb:M76674.1 gb:L07334.1 gb:NM_000952.1', 'gb:U19970.1 /DB_XREF=gi:643476 /FEA=FLmRNA /CNT=39 /TID=Hs.51120.0 /TIER=FL+Stack /STK=11 /UG=Hs.51120 /LL=820 /UG_GENE=CAMP /DEF=Human antimicrobial LPS-binding protein CAP18 precursor mRNA, complete cds. /PROD=CAP18 precursor /FL=gb:U19970.1 gb:NM_004345.1', 'gb:M82882.1 /DB_XREF=gi:180551 /FEA=mRNA /CNT=181 /TID=Hs.154365.0 /TIER=Stack /STK=56 /UG=Hs.154365 /LL=1997 /UG_GENE=ELF1 /UG_TITLE=E74-like factor 1 (ets domain transcription factor) /DEF=Human cis-acting sequence.', 'gb:AL559590 /DB_XREF=gi:12905223 /DB_XREF=AL559590 /CLONE=CS0DJ013YH24 (5 prime) /FEA=mRNA /CNT=181 /TID=Hs.154365.0 /TIER=Stack /STK=28 /UG=Hs.154365 /LL=1997 /UG_GENE=ELF1 /UG_TITLE=E74-like factor 1 (ets domain transcription factor)', 'gb:AA019977 /DB_XREF=gi:1483694 /DB_XREF=ze62g12.s1 /CLONE=IMAGE:363622 /FEA=mRNA /CNT=132 /TID=Hs.184793.0 /TIER=Stack /STK=25 /UG=Hs.184793 /UG_TITLE=Homo sapiens cDNA: FLJ21880 fis, clone HEP02743', 'gb:AI949687 /DB_XREF=gi:5741997 /DB_XREF=wq13g04.x1 /CLONE=IMAGE:2471190 /FEA=mRNA /CNT=130 /TID=Hs.173638.0 /TIER=Stack /STK=49 /UG=Hs.173638 /LL=6934 /UG_GENE=TCF7L2 /UG_TITLE=transcription factor 7-like 2 (T-cell specific, HMG-box)', 'gb:AW131783 /DB_XREF=gi:6133390 /DB_XREF=xf34e09.x1 /CLONE=IMAGE:2619976 /FEA=EST /CNT=66 /TID=Hs.23990.1 /TIER=Stack /STK=54 /UG=Hs.23990 /LL=55651 /UG_GENE=NOLA2 /UG_TITLE=nucleolar protein family A, member 2 (HACA small nucleolar RNPs)', 'gb:AW071997 /DB_XREF=gi:6026995 /DB_XREF=ws57f09.x1 /CLONE=IMAGE:2501321 /FEA=EST /CNT=15 /TID=Hs.326249.0 /TIER=Stack /STK=14 /UG=Hs.326249 /UG_TITLE=Homo sapiens mRNA; cDNA DKFZp586E0524 (from clone DKFZp586E0524)', 'gb:AA769818 /DB_XREF=gi:2821056 /DB_XREF=ah81b03.s1 /CLONE=1321997 /FEA=mRNA /CNT=13 /TID=Hs.96253.2 /TIER=ConsEnd /STK=2 /UG=Hs.96253 /LL=773 /UG_GENE=CACNA1A /UG_TITLE=calcium channel, voltage-dependent, PQ type, alpha 1A subunit', 'gb:AK025650.1 /DB_XREF=gi:10438234 /FEA=mRNA /CNT=2 /TID=Hs.306820.0 /TIER=ConsEnd /STK=0 /UG=Hs.306820 /UG_TITLE=Homo sapiens cDNA: FLJ21997 fis, clone HEP06590 /DEF=Homo sapiens cDNA: FLJ21997 fis, clone HEP06590.', 'gb:NM_015958.1 /DB_XREF=gi:7706271 /GEN=LOC51611 /FEA=FLmRNA /CNT=24 /TID=Hs.19978.0 /TIER=FL /STK=0 /UG=Hs.19978 /LL=51611 /DEF=Homo sapiens CGI-30 protein (LOC51611), mRNA. /PROD=CGI-30 protein /FL=gb:NM_015958.1 gb:AF132964.1', 'gb:NM_015717.1 /DB_XREF=gi:7657290 /GEN=LANGERIN /FEA=FLmRNA /CNT=6 /TID=Hs.199731.0 /TIER=FL /STK=0 /UG=Hs.199731 /LL=50489 /DEF=Homo sapiens Langerhans cell specific c-type lectin (LANGERIN), mRNA. /PROD=Langerhans cell specific c-type lectin /FL=gb:NM_015717.1', 'gb:NM_017609.1 /DB_XREF=gi:8922123 /GEN=DKFZp434A1721 /FEA=FLmRNA /CNT=6 /TID=Hs.199722.0 /TIER=FL /STK=0 /UG=Hs.199722 /LL=54777 /DEF=Homo sapiens hypothetical protein DKFZp434A1721 (DKFZp434A1721), mRNA. /PROD=hypothetical protein DKFZp434A1721 /FL=gb:NM_017609.1', 'gb:NM_025191.1 /DB_XREF=gi:13376781 /GEN=FLJ13033 /FEA=FLmRNA /CNT=3 /TID=Hs.301997.0 /TIER=FL /STK=0 /UG=Hs.301997 /LL=80267 /DEF=Homo sapiens hypothetical protein FLJ13033 (FLJ13033), mRNA. /PROD=hypothetical protein FLJ13033 /FL=gb:NM_025191.1', 'gb:BE219979 /DB_XREF=gi:8907297 /DB_XREF=hv65d06.x1 /CLONE=IMAGE:3178283 /FEA=FLmRNA /CNT=51 /TID=Hs.21814.0 /TIER=Stack /STK=15 /UG=Hs.21814 /LL=53832 /UG_GENE=IL20RA /UG_TITLE=interleukin 20 receptor, alpha /FL=gb:NM_014432.1 gb:AF184971.1', 'gb:AF061731.1 /DB_XREF=gi:12001997 /FEA=FLmRNA /CNT=203 /TID=Hs.180201.0 /TIER=FL+Stack /STK=23 /UG=Hs.180201 /LL=55017 /UG_GENE=FLJ20671 /DEF=Homo sapiens clone 016g06 My028 protein mRNA, complete cds. /PROD=My028 protein /FL=gb:NM_017924.1 gb:AF061731.1', 'gb:BF439488 /DB_XREF=gi:11452005 /DB_XREF=nab65c03.x1 /CLONE=IMAGE:3272453 /FEA=FLmRNA /CNT=84 /TID=Hs.301997.1 /TIER=Stack /STK=8 /UG=Hs.301997 /LL=80267 /UG_GENE=FLJ13033 /UG_TITLE=hypothetical protein FLJ13033 /FL=gb:AF288393.1', 'gb:AF248965.1 /DB_XREF=gi:12005666 /FEA=FLmRNA /CNT=16 /TID=Hs.19978.3 /TIER=FL /STK=0 /UG=Hs.19978 /LL=51611 /UG_GENE=LOC51611 /DEF=Homo sapiens NPD015 mRNA, complete cds. /PROD=NPD015 /FL=gb:AF248965.1', 'gb:BC003660.1 /DB_XREF=gi:13177783 /FEA=FLmRNA /CNT=15 /TID=Hs.19978.2 /TIER=FL /STK=0 /UG=Hs.19978 /LL=51611 /UG_GENE=LOC51611 /DEF=Homo sapiens, Similar to CGI-30 protein, clone MGC:687, mRNA, complete cds. /PROD=Similar to CGI-30 protein /FL=gb:BC003660.1', 'gb:AF157319.1 /DB_XREF=gi:7688688 /FEA=FLmRNA /CNT=2 /TID=Hs.19978.1 /TIER=FL /STK=0 /UG=Hs.19978 /LL=51611 /UG_GENE=LOC51611 /DEF=Homo sapiens AD-018 protein mRNA, complete cds. /PROD=AD-018 protein /FL=gb:AF157319.1', 'gb:AF161492.1 /DB_XREF=gi:6841507 /FEA=FLmRNA /CNT=1 /TID=Hs.19978.4 /TIER=FL /STK=0 /UG=Hs.19978 /LL=51611 /UG_GENE=LOC51611 /DEF=Homo sapiens HSPC143 mRNA, complete cds. /PROD=HSPC143 /FL=gb:AF161492.1', 'gb:N51673 /DB_XREF=gi:1192839 /DB_XREF=yy87h03.s1 /CLONE=IMAGE:280565 /FEA=EST /CNT=131 /TID=Hs.19978.5 /TIER=Stack /STK=19 /UG=Hs.19978 /LL=51611 /UG_GENE=LOC51611 /UG_TITLE=CGI-30 protein', 'gb:AI741110 /DB_XREF=gi:5109398 /DB_XREF=wg19b01.x1 /CLONE=IMAGE:2365513 /FEA=EST /CNT=131 /TID=Hs.19978.5 /TIER=Stack /STK=67 /UG=Hs.19978 /LL=51611 /UG_GENE=LOC51611 /UG_TITLE=CGI-30 protein', 'gb:AA199717 /DB_XREF=gi:1795425 /DB_XREF=zq74h11.s1 /CLONE=IMAGE:647397 /FEA=EST /CNT=92 /TID=Hs.101174.4 /TIER=Stack /STK=42 /UG=Hs.101174 /LL=4137 /UG_GENE=MAPT /UG_TITLE=microtubule-associated protein tau', 'gb:AU146771 /DB_XREF=gi:11008292 /DB_XREF=AU146771 /CLONE=HEMBB1001458 /FEA=mRNA /CNT=43 /TID=Hs.288671.0 /TIER=Stack /STK=12 /UG=Hs.288671 /UG_TITLE=Homo sapiens cDNA FLJ11997 fis, clone HEMBB1001458', 'gb:AA706895 /DB_XREF=gi:2716813 /DB_XREF=zj28g12.s1 /CLONE=IMAGE:451654 /FEA=DNA_2 /CNT=34 /TID=Hs.119976.0 /TIER=Stack /STK=8 /UG=Hs.119976 /UG_TITLE=Human DNA sequence from clone RP1-20N2 on chromosome 6q24. Contains the gene for a novel protein similar to yeast and bacterial cytosine deaminase, a possible pseudogene similar to part of Tubulin beta chain, the PEX3 gene for peroxisomal biogenesis factor 3 (peroxin 3), a VDAC1 (voltage-dependent anion channel 1 (Plasmalemmal porin)) pseudogene and the gene for a novel protein similar to tissue alpha-L-1 fucosidase (EC 3.2.1.51, alpha-l-fucosidase fucohydrolase). Contains ESTs, STSs, GSSs and two putative CpG islands', 'gb:AW151924 /DB_XREF=gi:6199744 /DB_XREF=xf70d01.x1 /CLONE=IMAGE:2623393 /FEA=EST /CNT=15 /TID=Hs.30701.0 /TIER=Stack /STK=9 /UG=Hs.30701 /UG_TITLE=ESTs', 'gb:AI022193 /DB_XREF=gi:3239546 /DB_XREF=ow92f09.x1 /CLONE=IMAGE:1654313 /FEA=EST /CNT=13 /TID=Hs.41997.0 /TIER=Stack /STK=9 /UG=Hs.41997 /LL=1 /UG_GENE=A1BG /UG_TITLE=alpha-1-B glycoprotein', 'gb:BF476051 /DB_XREF=gi:11546878 /DB_XREF=naa16e09.x1 /CLONE=IMAGE:3254897 /FEA=EST /CNT=11 /TID=Hs.199705.0 /TIER=Stack /STK=9 /UG=Hs.199705 /UG_TITLE=ESTs', 'gb:AI824034 /DB_XREF=gi:5444705 /DB_XREF=wj29g10.x1 /CLONE=IMAGE:2404290 /FEA=EST /CNT=15 /TID=Hs.19978.6 /TIER=Stack /STK=14 /UG=Hs.19978 /LL=51611 /UG_GENE=LOC51611 /UG_TITLE=CGI-30 protein', 'gb:AA417970 /DB_XREF=gi:2079789 /DB_XREF=zv97c03.s1 /CLONE=IMAGE:767716 /FEA=EST /CNT=12 /TID=Hs.19977.0 /TIER=Stack /STK=8 /UG=Hs.19977 /UG_TITLE=ESTs, Moderately similar to ALU8_HUMAN ALU SUBFAMILY SX SEQUENCE CONTAMINATION WARNING ENTRY (H.sapiens)', 'gb:AW138802 /DB_XREF=gi:6143120 /DB_XREF=UI-H-BI1-aep-e-05-0-UI.s1 /CLONE=IMAGE:2719977 /FEA=EST /CNT=9 /TID=Hs.98710.1 /TIER=Stack /STK=8 /UG=Hs.98710 /LL=54522 /UG_GENE=DKFZP434N1511 /UG_TITLE=hypothetical protein', 'gb:AV650983 /DB_XREF=gi:9871997 /DB_XREF=AV650983 /CLONE=GLCCKE08 /FEA=EST /CNT=30 /TID=Hs.76669.1 /TIER=Stack /STK=16 /UG=Hs.76669 /LL=4837 /UG_GENE=NNMT /UG_TITLE=nicotinamide N-methyltransferase', 'gb:AK000106.1 /DB_XREF=gi:7019978 /FEA=mRNA /CNT=9 /TID=Hs.272227.0 /TIER=ConsEnd /STK=0 /UG=Hs.272227 /UG_TITLE=Homo sapiens cDNA FLJ20099 fis, clone COL04544 /DEF=Homo sapiens cDNA FLJ20099 fis, clone COL04544.', 'gb:AK026384.1 /DB_XREF=gi:10439234 /FEA=mRNA /CNT=4 /TID=Hs.199776.0 /TIER=ConsEnd /STK=3 /UG=Hs.199776 /UG_TITLE=Homo sapiens cDNA: FLJ22731 fis, clone HSI15841 /DEF=Homo sapiens cDNA: FLJ22731 fis, clone HSI15841.', 'gb:AK000105.1 /DB_XREF=gi:7019977 /FEA=mRNA /CNT=2 /TID=Hs.268700.1 /TIER=ConsEnd /STK=0 /UG=Hs.268700 /LL=79984 /UG_GENE=FLJ21736 /UG_TITLE=hypothetical protein FLJ21736 /DEF=Homo sapiens cDNA FLJ20098 fis, clone COL04537, highly similar to ESTM_MOUSE LIVER CARBOXYLESTERASE PRECURSOR.', 'gb:AK000107.1 /DB_XREF=gi:7019979 /FEA=mRNA /CNT=1 /TID=Hs.306379.0 /TIER=ConsEnd /STK=0 /UG=Hs.306379 /UG_TITLE=Homo sapiens cDNA FLJ20100 fis, clone COL04648 /DEF=Homo sapiens cDNA FLJ20100 fis, clone COL04648.', 'gb:AF332231.1 /DB_XREF=gi:13161099 /FEA=mRNA /CNT=1 /TID=Hs.199774.0 /TIER=ConsEnd /STK=0 /UG=Hs.199774 /UG_TITLE=Homo sapiens testis transcript Y 4 (TTY4) mRNA, partial sequence /DEF=Homo sapiens testis transcript Y 4 (TTY4) mRNA, partial sequence.', 'gb:AW449078 /DB_XREF=gi:6989854 /DB_XREF=UI-H-BI3-akf-c-12-0-UI.s1 /CLONE=IMAGE:2734079 /FEA=EST /CNT=9 /TID=Hs.199726.0 /TIER=ConsEnd /STK=5 /UG=Hs.199726 /UG_TITLE=ESTs, Moderately similar to ALU8_HUMAN ALU SUBFAMILY SX SEQUENCE CONTAMINATION WARNING ENTRY (H.sapiens)', 'gb:BE502037 /DB_XREF=gi:9704445 /DB_XREF=hy11e04.x1 /CLONE=IMAGE:3197022 /FEA=EST /CNT=6 /TID=Hs.199711.0 /TIER=ConsEnd /STK=5 /UG=Hs.199711 /UG_TITLE=ESTs', 'gb:AA601997 /DB_XREF=gi:2435786 /DB_XREF=no99a11.s1 /CLONE=IMAGE:1114940 /FEA=EST /CNT=6 /TID=Hs.213218.0 /TIER=ConsEnd /STK=6 /UG=Hs.213218 /UG_TITLE=ESTs', 'gb:BF062238 /DB_XREF=gi:10821136 /DB_XREF=7k74e10.x1 /CLONE=IMAGE:3481075 /FEA=EST /CNT=5 /TID=Hs.199739.0 /TIER=ConsEnd /STK=5 /UG=Hs.199739 /UG_TITLE=ESTs', 'gb:AW138801 /DB_XREF=gi:6143119 /DB_XREF=UI-H-BI1-aep-e-04-0-UI.s1 /CLONE=IMAGE:2719975 /FEA=EST /CNT=8 /TID=Hs.197101.0 /TIER=ConsEnd /STK=7 /UG=Hs.197101 /UG_TITLE=ESTs', 'gb:BG287503 /DB_XREF=gi:13041410 /DB_XREF=602384513F1 /CLONE=IMAGE:4513611 /FEA=EST /CNT=16 /TID=Hs.199713.0 /TIER=ConsEnd /STK=0 /UG=Hs.199713 /UG_TITLE=ESTs', 'gb:AI478771 /DB_XREF=gi:4371997 /DB_XREF=tm24d06.x1 /CLONE=IMAGE:2157515 /FEA=EST /CNT=6 /TID=Hs.22929.0 /TIER=ConsEnd /STK=4 /UG=Hs.22929 /UG_TITLE=ESTs', 'gb:AW206292 /DB_XREF=gi:6505783 /DB_XREF=UI-H-BI1-afe-g-06-0-UI.s1 /CLONE=IMAGE:2721610 /FEA=EST /CNT=4 /TID=Hs.199751.0 /TIER=ConsEnd /STK=4 /UG=Hs.199751 /UG_TITLE=ESTs', 'gb:AW183167 /DB_XREF=gi:6451645 /DB_XREF=xj67d07.x1 /CLONE=IMAGE:2662285 /FEA=EST /CNT=5 /TID=Hs.199767.0 /TIER=ConsEnd /STK=4 /UG=Hs.199767 /UG_TITLE=ESTs', 'gb:AI199795 /DB_XREF=gi:3752401 /DB_XREF=qf95a12.x1 /CLONE=IMAGE:1757758 /FEA=EST /CNT=4 /TID=Hs.143929.0 /TIER=ConsEnd /STK=4 /UG=Hs.143929 /UG_TITLE=ESTs', 'gb:AW979272 /DB_XREF=gi:8170560 /DB_XREF=EST391382 /FEA=EST /CNT=6 /TID=Hs.291997.0 /TIER=ConsEnd /STK=0 /UG=Hs.291997 /UG_TITLE=ESTs', 'gb:AI672868 /DB_XREF=gi:4852599 /DB_XREF=we72g04.x1 /CLONE=IMAGE:2346678 /FEA=EST /CNT=6 /TID=Hs.199754.0 /TIER=ConsEnd /STK=1 /UG=Hs.199754 /UG_TITLE=ESTs']\n",
      "\n",
      "SYNGR1: ['gb:NM_004711.1 /DB_XREF=gi:4759199 /GEN=SYNGR1 /FEA=FLmRNA /CNT=92 /TID=Hs.6139.0 /TIER=FL+Stack /STK=31 /UG=Hs.6139 /LL=9145 /DEF=Homo sapiens synaptogyrin 1 (SYNGR1), mRNA. /PROD=synaptogyrin 1 /FL=gb:NM_004711.1', 'gb:BC000731.1 /DB_XREF=gi:12653878 /FEA=FLmRNA /CNT=7 /TID=Hs.6139.1 /TIER=FL /STK=0 /UG=Hs.6139 /LL=9145 /UG_GENE=SYNGR1 /DEF=Homo sapiens, synaptogyrin 1, clone MGC:1939, mRNA, complete cds. /PROD=synaptogyrin 1 /FL=gb:BC000731.1', 'gb:BF511590 /DB_XREF=gi:11594888 /DB_XREF=UI-H-BI4-aol-b-08-0-UI.s1 /CLONE=IMAGE:3085023 /FEA=mRNA /CNT=31 /TID=Hs.6139.2 /TIER=Stack /STK=10 /UG=Hs.6139 /LL=9145 /UG_GENE=SYNGR1 /UG_TITLE=synaptogyrin 1']\n",
      "\n",
      "9145: ['gb:NM_018544.2 /DB_XREF=gi:20591457 /TID=Hs2.283045.1 /CNT=3 /FEA=FLmRNA /TIER=FL /STK=1 /LL=55412 /UG_GENE=PRO2949 /UG=Hs.283045 /UG_TITLE=hypothetical protein PRO2949 /DEF=Homo sapiens hypothetical protein PRO2949 (PRO2949), mRNA. /FL=gb:NM_018544.2', 'gb:BC018663.1 /DB_XREF=gi:17391457 /TID=Hs2.112250.2 /CNT=4 /FEA=FLmRNA /TIER=FL /STK=1 /LL=79780 /UG_GENE=FLJ23518 /UG=Hs.112250 /DEF=Homo sapiens, clone MGC:2462 IMAGE:2964737, mRNA, complete cds. /PROD=Unknown (protein for MGC:2462) /FL=gb:BC018663.1', 'gb:AW052159 /DB_XREF=gi:5914518 /DB_XREF=wx26f11.x1 /CLONE=IMAGE:2544813 /TID=Hs2.232708.1 /CNT=5 /FEA=mRNA /TIER=ConsEnd /STK=2 /UG=Hs.232708 /UG_TITLE=Homo sapiens, clone IMAGE:5288733, mRNA', 'gb:BM914560 /DB_XREF=gi:19364939 /DB_XREF=AGENCOURT_6615443 /CLONE=IMAGE:5480243 /TID=Hs2.281721.1 /CNT=19 /FEA=mRNA /TIER=ConsEnd /STK=0 /UG=Hs.281721 /UG_TITLE=Homo sapiens cDNA FLJ33440 fis, clone BRACE2021721.', 'gb:BC041461.1 /DB_XREF=gi:27552821 /TID=Hs2.253790.1 /CNT=4 /FEA=mRNA /TIER=ConsEnd /STK=0 /LL=333929 /UG_GENE=SNAI3 /UG=Hs.253790 /UG_TITLE=snail homolog 3 (Drosophila) /DEF=Homo sapiens, Similar to snail homolog 3 (Drosophila), clone IMAGE:5209145, mRNA, partial cds.', 'gb:BC025309.1 /DB_XREF=gi:19263931 /TID=Hs2.14051.4 /CNT=4 /FEA=mRNA /TIER=ConsEnd /STK=1 /LL=91452 /UG_GENE=DKFZp434A2417 /UG=Hs.14051 /UG_TITLE=endozepine-related protein precursor /DEF=Homo sapiens, clone IMAGE:5458203, mRNA.', 'gb:NM_004711.1 /DB_XREF=gi:4759199 /GEN=SYNGR1 /FEA=FLmRNA /CNT=92 /TID=Hs.6139.0 /TIER=FL+Stack /STK=31 /UG=Hs.6139 /LL=9145 /DEF=Homo sapiens synaptogyrin 1 (SYNGR1), mRNA. /PROD=synaptogyrin 1 /FL=gb:NM_004711.1', 'gb:NM_001474.1 /DB_XREF=gi:4503882 /GEN=GAGE4 /FEA=FLmRNA /CNT=6 /TID=Hs.183199.0 /TIER=FL /STK=1 /UG=Hs.183199 /LL=2576 /DEF=Homo sapiens G antigen 4 (GAGE4), mRNA. /PROD=G antigen 4 /FL=gb:U19145.1 gb:NM_001474.1', 'gb:AL022312 /DB_XREF=gi:4914501 /FEA=FLmRNA /CNT=52 /TID=Hs.112.1 /TIER=Stack /STK=26 /UG=Hs.112 /LL=4248 /UG_GENE=MGAT3 /UG_TITLE=mannosyl (beta-1,4-)-glycoprotein beta-1,4-N-acetylglucosaminyltransferase /DEF=Human DNA sequence from clone RP5-1104E15 on chromosome 22q12.3-13.1 Contains the MGAT3 gene for mannosyl (beta-1,4-)-glycoprotein beta-1,4-N-acetylglucosaminyltransferase, the gene for a predicted protein, the ATF4 gene for activating transcripti... /FL=gb:D13789.1', 'gb:AF091453.1 /DB_XREF=gi:5031140 /GEN=NEMO /FEA=FLmRNA /CNT=38 /TID=Hs.43505.1 /TIER=FL /STK=2 /UG=Hs.43505 /LL=8517 /DEF=Homo sapiens NEMO protein (NEMO) mRNA, complete cds. /PROD=NEMO protein /FL=gb:AF091453.1', 'gb:X16323.1 /DB_XREF=gi:32081 /FEA=FLmRNA /CNT=42 /TID=Hs.809.0 /TIER=Stack /STK=8 /UG=Hs.809 /LL=3082 /UG_GENE=HGF /UG_TITLE=hepatocyte growth factor (hepapoietin A; scatter factor) /DEF=Human mRNA for hepatocyte growth factor (HGF). /FL=gb:M73240.1 gb:M73239.1 gb:M60718.1 gb:M29145.1', 'gb:M60718.1 /DB_XREF=gi:184031 /GEN=HGF /FEA=FLmRNA /CNT=42 /TID=Hs.809.0 /TIER=FL /STK=0 /UG=Hs.809 /LL=3082 /DEF=Human hepatocyte growth factor mRNA, complete cds. /PROD=hepatocyte growth factor /FL=gb:M73240.1 gb:M73239.1 gb:M60718.1 gb:M29145.1', 'gb:BC000731.1 /DB_XREF=gi:12653878 /FEA=FLmRNA /CNT=7 /TID=Hs.6139.1 /TIER=FL /STK=0 /UG=Hs.6139 /LL=9145 /UG_GENE=SYNGR1 /DEF=Homo sapiens, synaptogyrin 1, clone MGC:1939, mRNA, complete cds. /PROD=synaptogyrin 1 /FL=gb:BC000731.1', 'gb:AB030077.1 /DB_XREF=gi:6691452 /GEN=K-sam /FEA=FLmRNA /CNT=1 /TID=Hs.278581.13 /TIER=FL /STK=0 /UG=Hs.278581 /LL=2263 /DEF=Homo sapiens mRNA for K-sam-IIO2, complete cds. /PROD=K-sam-IIO2 /FL=gb:AB030077.1', 'gb:AB030078.1 /DB_XREF=gi:6691454 /GEN=K-sam /FEA=FLmRNA /CNT=1 /TID=Hs.278581.15 /TIER=FL /STK=0 /UG=Hs.278581 /LL=2263 /DEF=Homo sapiens mRNA for K-sam-IIO3, complete cds. /PROD=K-sam-IIO3 /FL=gb:AB030078.1', 'gb:AW052179 /DB_XREF=gi:5914538 /DB_XREF=wx26h09.x1 /CLONE=IMAGE:2544833 /FEA=FLmRNA /CNT=55 /TID=Hs.169825.0 /TIER=Stack /STK=27 /UG=Hs.169825 /LL=1287 /UG_GENE=COL4A5 /UG_TITLE=collagen, type IV, alpha 5 (Alport syndrome) /FL=gb:NM_000495.2', 'gb:AL050374.1 /DB_XREF=gi:4914579 /FEA=mRNA /CNT=47 /TID=Hs.108169.0 /TIER=Stack /STK=27 /UG=Hs.108169 /UG_TITLE=Homo sapiens mRNA; cDNA DKFZp586C1619 (from clone DKFZp586C1619) /DEF=Homo sapiens mRNA; cDNA DKFZp586C1619 (from clone DKFZp586C1619).', 'gb:AL050378.1 /DB_XREF=gi:4914581 /GEN=DKFZp586I1420 /FEA=mRNA /CNT=31 /TID=Hs.112423.0 /TIER=Stack /STK=13 /UG=Hs.112423 /DEF=Homo sapiens mRNA; cDNA DKFZp586I1420 (from clone DKFZp586I1420); partial cds. /PROD=hypothetical protein', 'gb:AL050391.1 /DB_XREF=gi:4914591 /GEN=DKFZp586A181 /FEA=mRNA /CNT=37 /TID=Hs.321247.0 /TIER=Stack /STK=16 /UG=Hs.321247 /DEF=Homo sapiens mRNA; cDNA DKFZp586A181 (from clone DKFZp586A181); partial cds. /PROD=hypothetical protein', 'gb:BF511590 /DB_XREF=gi:11594888 /DB_XREF=UI-H-BI4-aol-b-08-0-UI.s1 /CLONE=IMAGE:3085023 /FEA=mRNA /CNT=31 /TID=Hs.6139.2 /TIER=Stack /STK=10 /UG=Hs.6139 /LL=9145 /UG_GENE=SYNGR1 /UG_TITLE=synaptogyrin 1', 'gb:AA161026 /DB_XREF=gi:1735280 /DB_XREF=zo62a12.s1 /CLONE=IMAGE:591454 /FEA=mRNA /CNT=19 /TID=Hs.292996.0 /TIER=Stack /STK=10 /UG=Hs.292996 /LL=5380 /UG_GENE=PMS2L2 /UG_TITLE=postmeiotic segregation increased 2-like 2', 'gb:BF344237 /DB_XREF=gi:11291450 /DB_XREF=602017491F1 /CLONE=IMAGE:4152983 /FEA=mRNA /CNT=17 /TID=Hs.124776.0 /TIER=ConsEnd /STK=6 /UG=Hs.124776 /UG_TITLE=Homo sapiens mRNA; cDNA DKFZp564N1116 (from clone DKFZp564N1116)', 'gb:AL050364.1 /DB_XREF=gi:4914598 /FEA=mRNA /CNT=11 /TID=Hs.302761.0 /TIER=ConsEnd /STK=1 /UG=Hs.302761 /UG_TITLE=Homo sapiens mRNA; cDNA DKFZp564G052 (from clone DKFZp564G052) /DEF=Homo sapiens mRNA; cDNA DKFZp564G052 (from clone DKFZp564G052).', 'gb:AL050358.1 /DB_XREF=gi:4914576 /GEN=DKFZp564M1916 /FEA=mRNA /CNT=8 /TID=Hs.159481.1 /TIER=ConsEnd /STK=0 /UG=Hs.159481 /LL=2583 /DEF=Homo sapiens mRNA; cDNA DKFZp564M1916 (from clone DKFZp564M1916); partial cds. /PROD=hypothetical protein', 'gb:AL050353.1 /DB_XREF=gi:4914574 /FEA=mRNA /CNT=9 /TID=Hs.274170.1 /TIER=ConsEnd /STK=1 /UG=Hs.274170 /LL=11340 /UG_GENE=OIP2 /UG_TITLE=Opa-interacting protein 2 /DEF=Homo sapiens mRNA; cDNA DKFZp564C0482 (from clone DKFZp564C0482).', 'gb:AL050389.1 /DB_XREF=gi:4914570 /FEA=mRNA /CNT=4 /TID=Hs.128653.2 /TIER=ConsEnd /STK=0 /UG=Hs.128653 /LL=57157 /UG_GENE=DKFZP564F013 /DEF=Homo sapiens mRNA; cDNA DKFZp564F013 (from clone DKFZp564F013). /PROD=hypothetical protein', 'gb:AL031848 /DB_XREF=gi:4914512 /FEA=DNA_4 /CNT=3 /TID=Hs.8679.2 /TIER=ConsEnd /STK=0 /UG=Hs.8679 /LL=11332 /UG_GENE=HBACH /UG_TITLE=cytosolic acyl coenzyme A thioester hydrolase /DEF=Human DNA sequence from clone 202O8 on chromosome 1p36.11-36.31. Contains the 5 part of a gene for a novel rat Espin LIKE protein containing Ank repeats, the gene for the ortholog of rodent HES2 (Hairy and Enhacer of Split 2) and the 5 end of th...', 'gb:BE271470 /DB_XREF=gi:9145273 /DB_XREF=601140646F1 /CLONE=IMAGE:3049883 /FEA=DNA /CNT=3 /TID=Hs.247817.2 /TIER=ConsEnd /STK=0 /UG=Hs.247817 /LL=8339 /UG_GENE=H2BFA /UG_TITLE=H2B histone family, member A', 'gb:AL031848 /DB_XREF=gi:4914512 /FEA=DNA_3 /CNT=1 /TID=Hs.156042.1 /TIER=ConsEnd /STK=0 /UG=Hs.156042 /LL=54626 /UG_GENE=HES2 /UG_TITLE=hairy and enhancer of split (Drosophila) homolog 2 /DEF=Human DNA sequence from clone 202O8 on chromosome 1p36.11-36.31. Contains the 5 part of a gene for a novel rat Espin LIKE protein containing Ank repeats, the gene for the ortholog of rodent HES2 (Hairy and Enhacer of Split 2) and the 5 end of th...', 'gb:AL031589 /DB_XREF=gi:4914506 /FEA=DNA /CNT=1 /TID=Hs.247871.0 /TIER=ConsEnd /STK=0 /UG=Hs.247871 /UG_TITLE=Human DNA sequence from clone RP6-11O7 on chromosome 22 Contains an RPL7 (60S Ribosomal Protein L7) pseudogene, part of a putative novel gene, ESTs and GSSs /DEF=Human DNA sequence from clone RP6-11O7 on chromosome 22 Contains an RPL7 (60S Ribosomal Protein L7) pseudogene, part of a putative novel gene, ESTs and GSSs', 'gb:AL050361.1 /DB_XREF=gi:4914594 /FEA=mRNA /CNT=1 /TID=Hs.274417.2 /TIER=ConsEnd /STK=0 /UG=Hs.274417 /LL=28973 /UG_GENE=PTD017 /UG_TITLE=PTD017 protein /DEF=Homo sapiens mRNA; cDNA DKFZp564H0223 (from clone DKFZp564H0223).', 'gb:AV756729 /DB_XREF=gi:10914577 /DB_XREF=AV756729 /CLONE=BMCACB11 /FEA=EST /CNT=3 /TID=Hs.317661.0 /TIER=ConsEnd /STK=3 /UG=Hs.317661 /UG_TITLE=ESTs', 'gb:NM_024300.1 /DB_XREF=gi:13236525 /GEN=MGC2217 /FEA=FLmRNA /CNT=76 /TID=Hs.323164.0 /TIER=FL /STK=1 /UG=Hs.323164 /LL=79145 /DEF=Homo sapiens hypothetical protein MGC2217 (MGC2217), mRNA. /PROD=hypothetical protein MGC2217 /FL=gb:BC002546.1 gb:NM_024300.1', 'gb:AI309636 /DB_XREF=gi:4004507 /DB_XREF=qo77g11.x1 /CLONE=IMAGE:1914596 /FEA=FLmRNA /CNT=41 /TID=Hs.33533.0 /TIER=Stack /STK=20 /UG=Hs.33533 /LL=79676 /UG_GENE=FLJ13491 /UG_TITLE=hypothetical protein FLJ13491 /FL=gb:NM_024623.1', 'gb:NM_024121.1 /DB_XREF=gi:13129145 /GEN=FLJ20979 /FEA=FLmRNA /CNT=45 /TID=Hs.44680.0 /TIER=FL /STK=1 /UG=Hs.44680 /LL=79134 /DEF=Homo sapiens hypothetical protein FLJ20979 (FLJ20979), mRNA. /PROD=hypothetical protein FLJ20979 /FL=gb:NM_024121.1', 'gb:AI391455 /DB_XREF=gi:4217459 /DB_XREF=tf96f08.x1 /CLONE=IMAGE:2107143 /FEA=FLmRNA /CNT=132 /TID=Hs.24956.0 /TIER=Stack /STK=10 /UG=Hs.24956 /LL=64423 /UG_GENE=FLJ22056 /UG_TITLE=hypothetical protein FLJ22056 /FL=gb:NM_022489.1', 'gb:AA570393 /DB_XREF=gi:2344373 /DB_XREF=nk62e01.s1 /CLONE=IMAGE:1018104 /FEA=FLmRNA /CNT=76 /TID=Hs.323164.0 /TIER=Stack /STK=14 /UG=Hs.323164 /LL=79145 /UG_GENE=MGC2217 /UG_TITLE=hypothetical protein MGC2217 /FL=gb:BC002546.1 gb:NM_024300.1', 'gb:AF279145.1 /DB_XREF=gi:9857405 /FEA=mRNA /CNT=212 /TID=Hs.8966.0 /TIER=Stack /STK=75 /UG=Hs.8966 /LL=57346 /UG_GENE=TEM8 /UG_TITLE=tumor endothelial marker 8 /DEF=Homo sapiens tumor endothelial marker 8 (TEM8) mRNA, partial sequence.', 'gb:AI391459 /DB_XREF=gi:4217463 /DB_XREF=tf96f12.x1 /CLONE=IMAGE:2107151 /FEA=EST /CNT=100 /TID=Hs.83532.3 /TIER=Stack /STK=13 /UG=Hs.83532 /LL=4179 /UG_GENE=MCP /UG_TITLE=membrane cofactor protein (CD46, trophoblast-lymphocyte cross-reactive antigen)', 'gb:BE271644 /DB_XREF=gi:9145584 /DB_XREF=601141201F1 /CLONE=IMAGE:3141000 /FEA=mRNA /CNT=78 /TID=Hs.132569.0 /TIER=Stack /STK=29 /UG=Hs.132569 /LL=64115 /UG_GENE=PP2135 /UG_TITLE=PP2135 protein', 'gb:AI309997 /DB_XREF=gi:4004868 /DB_XREF=qo77c04.x1 /CLONE=IMAGE:1914534 /FEA=EST /CNT=80 /TID=Hs.332011.0 /TIER=Stack /STK=28 /UG=Hs.332011 /LL=31214 /UG_GENE=EG:25E8.2 /UG_TITLE=Homo sapiens, clone IMAGE:3458173, mRNA, partial cds', 'gb:BF114738 /DB_XREF=gi:10984214 /DB_XREF=7j66g10.x1 /CLONE=IMAGE:3391458 /FEA=EST /CNT=35 /TID=Hs.103352.0 /TIER=Stack /STK=11 /UG=Hs.103352 /UG_TITLE=ESTs', 'gb:AI991451 /DB_XREF=gi:5838356 /DB_XREF=ws10e03.x1 /CLONE=IMAGE:2496796 /FEA=EST /CNT=20 /TID=Hs.26973.0 /TIER=Stack /STK=10 /UG=Hs.26973 /UG_TITLE=ESTs', 'gb:AI310001 /DB_XREF=gi:4004872 /DB_XREF=qo77c10.x1 /CLONE=IMAGE:1914546 /FEA=EST /CNT=16 /TID=Hs.48994.0 /TIER=Stack /STK=9 /UG=Hs.48994 /UG_TITLE=ESTs, Weakly similar to AF151800 1 CGI-41 protein (H.sapiens)', 'gb:BF508161 /DB_XREF=gi:11591459 /DB_XREF=UI-H-BI4-apz-g-09-0-UI.s1 /CLONE=IMAGE:3089105 /FEA=EST /CNT=14 /TID=Hs.77196.1 /TIER=Stack /STK=8 /UG=Hs.77196 /LL=6709 /UG_GENE=SPTAN1 /UG_TITLE=spectrin, alpha, non-erythrocytic 1 (alpha-fodrin)', 'gb:AI914504 /DB_XREF=gi:5634359 /DB_XREF=wf87b05.x1 /CLONE=IMAGE:2362545 /FEA=EST /CNT=14 /TID=Hs.146286.3 /TIER=Stack /STK=12 /UG=Hs.146286 /LL=63971 /UG_GENE=KIF13A /UG_TITLE=kinesin family member 13A', 'gb:AA429145 /DB_XREF=gi:2110687 /DB_XREF=zw19d02.r1 /CLONE=IMAGE:769731 /FEA=mRNA /CNT=3 /TID=Hs.306769.0 /TIER=ConsEnd /STK=0 /UG=Hs.306769 /UG_TITLE=Homo sapiens cDNA: FLJ21465 fis, clone COL04784', 'gb:AL035666 /DB_XREF=gi:4914532 /FEA=DNA /CNT=1 /TID=Hs.247872.0 /TIER=ConsEnd /STK=0 /UG=Hs.247872 /UG_TITLE=Human DNA sequence from clone 730D4 on chromosome 20q12. Contains a pseudogene similar to part of ATP50 (ATP synthase, H+ transporting, mitochondrial F1 complex, O subunit (oligomycin sensitivity conferring protein)), an EST, an STS and GSSs /DEF=Human DNA sequence from clone 730D4 on chromosome 20q12. Contains a pseudogene similar to part of ATP50 (ATP synthase, H+ transporting, mitochondrial F1 complex, O subunit (oligomycin sensitivity conferring protein)), an EST, an STS and GSSs', 'gb:AI991459 /DB_XREF=gi:5838364 /DB_XREF=ws10f01.x1 /CLONE=IMAGE:2496793 /FEA=EST /CNT=17 /TID=Hs.241175.0 /TIER=ConsEnd /STK=1 /UG=Hs.241175 /UG_TITLE=ESTs', 'gb:BF114745 /DB_XREF=gi:10984221 /DB_XREF=7j66h07.x1 /CLONE=IMAGE:3391453 /FEA=EST /CNT=10 /TID=Hs.136316.0 /TIER=ConsEnd /STK=2 /UG=Hs.136316 /UG_TITLE=ESTs', 'gb:BF056208 /DB_XREF=gi:10810094 /DB_XREF=7j88e05.x1 /CLONE=IMAGE:3393536 /FEA=EST /CNT=12 /TID=Hs.194136.0 /TIER=ConsEnd /STK=4 /UG=Hs.194136 /UG_TITLE=ESTs, Moderately similar to AF091457 1 zinc finger protein RIN ZF (R.norvegicus)', 'gb:AI863194 /DB_XREF=gi:5527301 /DB_XREF=tz44e05.x1 /CLONE=IMAGE:2291456 /FEA=EST /CNT=14 /TID=Hs.48614.0 /TIER=ConsEnd /STK=6 /UG=Hs.48614 /UG_TITLE=ESTs', 'gb:AI435440 /DB_XREF=gi:4303197 /DB_XREF=th94e02.x1 /CLONE=IMAGE:2126330 /FEA=EST /CNT=10 /TID=Hs.89145.0 /TIER=ConsEnd /STK=3 /UG=Hs.89145 /UG_TITLE=ESTs', 'gb:AW052216 /DB_XREF=gi:5914575 /DB_XREF=wy87d11.x1 /CLONE=IMAGE:2555541 /FEA=EST /CNT=6 /TID=Hs.136338.0 /TIER=ConsEnd /STK=6 /UG=Hs.136338 /UG_TITLE=ESTs', 'gb:AW207524 /DB_XREF=gi:6507020 /DB_XREF=UI-H-BI1-afj-g-12-0-UI.s1 /CLONE=IMAGE:2722007 /FEA=EST /CNT=5 /TID=Hs.19145.0 /TIER=ConsEnd /STK=5 /UG=Hs.19145 /UG_TITLE=ESTs', 'gb:W81110 /DB_XREF=gi:1391452 /DB_XREF=zd82b06.s1 /CLONE=IMAGE:347123 /FEA=EST /CNT=9 /TID=Hs.58597.0 /TIER=ConsEnd /STK=2 /UG=Hs.58597 /UG_TITLE=ESTs', 'gb:BG166796 /DB_XREF=gi:12673499 /DB_XREF=602339145F1 /CLONE=IMAGE:4447187 /FEA=EST /CNT=11 /TID=Hs.68467.0 /TIER=ConsEnd /STK=0 /UG=Hs.68467 /UG_TITLE=ESTs', 'gb:BG106878 /DB_XREF=gi:12600724 /DB_XREF=602291454F1 /CLONE=IMAGE:4386204 /FEA=EST /CNT=13 /TID=Hs.204724.0 /TIER=ConsEnd /STK=0 /UG=Hs.204724 /UG_TITLE=ESTs, Moderately similar to IF3X_HUMAN PUTATIVE EUKARYOTIC TRANSLATION INITIATION FACTOR 3 SUBUNIT (H.sapiens)', 'gb:AW129145 /DB_XREF=gi:6117089 /DB_XREF=xf20a01.x1 /CLONE=IMAGE:2618568 /FEA=EST /CNT=7 /TID=Hs.128076.0 /TIER=ConsEnd /STK=0 /UG=Hs.128076 /UG_TITLE=ESTs', 'gb:AW052186 /DB_XREF=gi:5914545 /DB_XREF=wy87a05.x1 /CLONE=IMAGE:2555504 /FEA=EST /CNT=4 /TID=Hs.118502.0 /TIER=ConsEnd /STK=4 /UG=Hs.118502 /UG_TITLE=ESTs', 'gb:AW450675 /DB_XREF=gi:6991451 /DB_XREF=UI-H-BI3-akx-g-10-0-UI.s1 /CLONE=IMAGE:2735827 /FEA=EST /CNT=4 /TID=Hs.212709.0 /TIER=ConsEnd /STK=4 /UG=Hs.212709 /UG_TITLE=ESTs', 'gb:BF508153 /DB_XREF=gi:11591451 /DB_XREF=UI-H-BI4-apz-f-08-0-UI.s1 /CLONE=IMAGE:3089055 /FEA=EST /CNT=4 /TID=Hs.292649.0 /TIER=ConsEnd /STK=4 /UG=Hs.292649 /UG_TITLE=ESTs', 'gb:AW450681 /DB_XREF=gi:6991457 /DB_XREF=UI-H-BI3-akx-h-06-0-UI.s1 /CLONE=IMAGE:2735867 /FEA=EST /CNT=4 /TID=Hs.224941.0 /TIER=ConsEnd /STK=4 /UG=Hs.224941 /UG_TITLE=ESTs', 'gb:AI732568 /DB_XREF=gi:5053681 /DB_XREF=zo23d12.x5 /CLONE=IMAGE:587735 /FEA=EST /CNT=9 /TID=Hs.191453.0 /TIER=ConsEnd /STK=3 /UG=Hs.191453 /UG_TITLE=ESTs', 'gb:AL036532 /DB_XREF=gi:5406077 /DB_XREF=DKFZp564I1162_s1 /CLONE=DKFZp564I1162 /FEA=EST /CNT=4 /TID=Hs.91453.0 /TIER=ConsEnd /STK=4 /UG=Hs.91453 /UG_TITLE=ESTs', 'gb:AA257109 /DB_XREF=gi:1891457 /DB_XREF=zs28c11.s1 /CLONE=IMAGE:686516 /FEA=EST /CNT=4 /TID=Hs.88087.0 /TIER=ConsEnd /STK=4 /UG=Hs.88087 /UG_TITLE=ESTs', 'gb:AW052176 /DB_XREF=gi:5914535 /DB_XREF=wx26h06.x1 /CLONE=IMAGE:2544827 /FEA=EST /CNT=3 /TID=Hs.211347.0 /TIER=ConsEnd /STK=3 /UG=Hs.211347 /UG_TITLE=ESTs', 'gb:AA835417 /DB_XREF=gi:2909145 /DB_XREF=ak72g12.s1 /CLONE=IMAGE:1413478 /FEA=EST /CNT=5 /TID=Hs.98553.0 /TIER=ConsEnd /STK=1 /UG=Hs.98553 /UG_TITLE=ESTs', 'gb:BE889301 /DB_XREF=gi:10346478 /DB_XREF=601513384F1 /CLONE=IMAGE:3914564 /FEA=EST /CNT=5 /TID=Hs.188594.0 /TIER=ConsEnd /STK=0 /UG=Hs.188594 /UG_TITLE=ESTs', 'gb:BE620513 /DB_XREF=gi:9891451 /DB_XREF=601483772F1 /CLONE=IMAGE:3886336 /FEA=EST /CNT=6 /TID=Hs.126889.0 /TIER=ConsEnd /STK=0 /UG=Hs.126889 /UG_TITLE=ESTs', 'Cluster Incl. AL021977:bK447C4.1 (novel MAFF (v-maf musculoaponeurotic fibrosarcoma (avian) oncogene family, protein F) LIKE protein) /cds=(0,494) /gb=AL021977 /gi=4914526 /ug=Hs.51305 /len=2128']\n",
      "\n",
      "================================================================\n",
      "ELF1: []\n",
      "\n",
      "1997: ['AB071997', 'BC041997', 'NM_001997', 'U19970', 'AA019977', 'AW071997', 'BE219979', 'AA199717', 'AA601997', 'AI199795']\n",
      "\n",
      "SYNGR1: []\n",
      "\n",
      "9145: ['BM914560', 'AF091453', 'AI391455', 'AF279145', 'AI391459', 'AI991451', 'AI914504', 'AA429145', 'AI991459', 'AW129145']\n",
      "\n",
      "================================================================\n",
      "ELF1: []\n",
      "\n",
      "1997: ['Similar to hCG1997308']\n",
      "\n",
      "SYNGR1: []\n",
      "\n",
      "9145: ['hypothetical protein LOC91450']\n",
      "\n",
      "================================================================\n",
      "ELF1: ['CELF1', 'ELF1']\n",
      "\n",
      "1997: []\n",
      "\n",
      "SYNGR1: ['SYNGR1']\n",
      "\n",
      "9145: ['LOC91450']\n",
      "\n",
      "================================================================\n",
      "ELF1: []\n",
      "\n",
      "1997: ['199777', '199786', '100131997 /// 100287333', '219970', '199704', '1997', '199731', '199746', '219972', '100131997 /// 100287333 /// 100289124', '199745', '199720', '199713']\n",
      "\n",
      "SYNGR1: []\n",
      "\n",
      "9145: ['91452', '9145', '79145', '91450']\n",
      "\n",
      "================================================================\n",
      "ELF1: []\n",
      "\n",
      "1997: ['NM_001178030 /// NM_001178031 /// NM_004630 /// NM_201995 /// NM_201997 /// NM_201998 /// NR_033649 /// NR_033650', 'XM_001719971 /// XM_001722553 /// XM_001726768', 'NM_001997', 'NM_004205 /// NM_171997', 'XM_001719974 /// XM_001722372 /// XM_001723170']\n",
      "\n",
      "SYNGR1: []\n",
      "\n",
      "9145: ['XR_078287 /// XR_078948 /// XR_079145']\n",
      "\n",
      "================================================================\n",
      "ELF1: []\n",
      "\n",
      "1997: ['0001701 // in utero embryonic development // inferred from electronic annotation /// 0001947 // heart looping // inferred from electronic annotation /// 0007389 // pattern specification process // inferred from electronic annotation /// 0007420 // brain development // inferred from electronic annotation /// 0008589 // regulation of smoothened signaling pathway // inferred from electronic annotation /// 0016485 // protein processing // inferred from electronic annotation /// 0021915 // neural tube development // inferred from electronic annotation /// 0021997 // neural plate axis specification // inferred from electronic annotation /// 0030162 // regulation of proteolysis // inferred from electronic annotation /// 0042384 // cilium assembly // inferred from electronic annotation /// 0042733 // embryonic digit morphogenesis // inferred from electronic annotation', '0001974 // blood vessel remodeling // inferred from electronic annotation /// 0001975 // response to amphetamine // inferred from electronic annotation /// 0001987 // vasoconstriction of artery involved in baroreceptor response to lowering of systemic arterial blood pressure // inferred from electronic annotation /// 0001996 // positive regulation of heart rate by epinephrine-norepinephrine // inferred from electronic annotation /// 0001997 // positive regulation of the force of heart contraction by epinephrine-norepinephrine // inferred from electronic annotation /// 0007165 // signal transduction // inferred from electronic annotation /// 0007186 // G-protein coupled receptor protein signaling pathway // not recorded /// 0007186 // G-protein coupled receptor protein signaling pathway // inferred from electronic annotation /// 0007186 // G-protein coupled receptor protein signaling pathway // traceable author statement /// 0007188 // G-protein signaling, coupled to cAMP nucleotide second messenger // traceable author statement /// 0007243 // intracellular protein kinase cascade // traceable author statement /// 0007267 // cell-cell signaling // traceable author statement /// 0007275 // multicellular organismal development // traceable author statement /// 0007512 // adult heart development // inferred from electronic annotation /// 0007626 // locomotory behavior // inferred from electronic annotation /// 0008283 // cell proliferation // traceable author statement /// 0008542 // visual learning // inferred from electronic annotation /// 0016049 // cell growth // inferred from electronic annotation /// 0035265 // organ growth // inferred from electronic annotation /// 0042593 // glucose homeostasis // inferred from electronic annotation /// 0043278 // response to morphine // inferred from electronic annotation /// 0045818 // negative regulation of glycogen catabolic process // inferred from electronic annotation /// 0045819 // positive regulation of glycogen catabolic process // inferred from electronic annotation /// 0048148 // behavioral response to cocaine // inferred from electronic annotation', '0001996 // positive regulation of heart rate by epinephrine-norepinephrine // inferred from electronic annotation /// 0001997 // positive regulation of the force of heart contraction by epinephrine-norepinephrine // inferred from electronic annotation /// 0002024 // diet induced thermogenesis // inferred from electronic annotation /// 0002025 // vasodilation by norepinephrine-epinephrine involved in regulation of systemic arterial blood pressure // inferred from electronic annotation /// 0007165 // signal transduction // inferred from electronic annotation /// 0007186 // G-protein coupled receptor protein signaling pathway // not recorded /// 0007186 // G-protein coupled receptor protein signaling pathway // inferred from electronic annotation /// 0007189 // activation of adenylate cyclase activity by G-protein signaling pathway // inferred from electronic annotation /// 0007190 // activation of adenylate cyclase activity // traceable author statement /// 0009409 // response to cold // inferred from electronic annotation /// 0031649 // heat generation // inferred from electronic annotation /// 0040015 // negative regulation of multicellular organism growth // inferred from electronic annotation /// 0042596 // fear response // inferred from electronic annotation /// 0050873 // brown fat cell differentiation // inferred from electronic annotation', '0001985 // negative regulation of heart rate involved in baroreceptor response to increased systemic arterial blood pressure // inferred from electronic annotation /// 0001994 // norepinephrine-epinephrine vasoconstriction involved in regulation of systemic arterial blood pressure // inferred from electronic annotation /// 0001996 // positive regulation of heart rate by epinephrine-norepinephrine // inferred from electronic annotation /// 0001997 // positive regulation of the force of heart contraction by epinephrine-norepinephrine // inferred from electronic annotation /// 0006915 // apoptosis // traceable author statement /// 0006939 // smooth muscle contraction // traceable author statement /// 0006950 // response to stress // inferred from sequence or structural similarity /// 0006950 // response to stress // inferred from electronic annotation /// 0007165 // signal transduction // inferred from electronic annotation /// 0007165 // signal transduction // traceable author statement /// 0007186 // G-protein coupled receptor protein signaling pathway // not recorded /// 0007186 // G-protein coupled receptor protein signaling pathway // inferred from electronic annotation /// 0007186 // G-protein coupled receptor protein signaling pathway // traceable author statement /// 0007200 // activation of phospholipase C activity by G-protein coupled receptor protein signaling pathway coupled to IP3 second messenger // inferred from electronic annotation /// 0007202 // activation of phospholipase C activity // inferred from sequence or structural similarity /// 0007204 // elevation of cytosolic calcium ion concentration // inferred from sequence or structural similarity /// 0007204 // elevation of cytosolic calcium ion concentration // inferred from electronic annotation /// 0007243 // intracellular protein kinase cascade // traceable author statement /// 0007267 // cell-cell signaling // traceable author statement /// 0007512 // adult heart development // inferred from electronic annotation /// 0007568 // aging // inferred from sequence or structural similarity /// 0007568 // aging // inferred from electronic annotation /// 0008285 // negative regulation of cell proliferation // traceable author statement /// 0009725 // response to hormone stimulus // inferred from sequence or structural similarity /// 0009725 // response to hormone stimulus // inferred from electronic annotation /// 0016049 // cell growth // inferred from electronic annotation /// 0032229 // negative regulation of synaptic transmission, GABAergic // inferred from sequence or structural similarity /// 0032229 // negative regulation of synaptic transmission, GABAergic // inferred from electronic annotation /// 0035024 // negative regulation of Rho protein signal transduction // inferred from sequence or structural similarity /// 0035265 // organ growth // inferred from electronic annotation /// 0042493 // response to drug // inferred from sequence or structural similarity /// 0042493 // response to drug // inferred from electronic annotation /// 0043410 // positive regulation of MAPKKK cascade // inferred from electronic annotation /// 0045760 // positive regulation of action potential // inferred from sequence or structural similarity /// 0045760 // positive regulation of action potential // inferred from electronic annotation /// 0045907 // positive regulation of vasoconstriction // inferred from sequence or structural similarity /// 0045907 // positive regulation of vasoconstriction // inferred from electronic annotation /// 0060402 // calcium ion transport into cytosol // inferred from sequence or structural similarity /// 0060452 // positive regulation of cardiac muscle contraction // inferred from sequence or structural similarity /// 0070374 // positive regulation of ERK1 and ERK2 cascade // inferred from sequence or structural similarity /// 0090037 // positive regulation of protein kinase C signaling cascade // inferred from sequence or structural similarity']\n",
      "\n",
      "SYNGR1: []\n",
      "\n"
     ]
    },
    {
     "name": "stdout",
     "output_type": "stream",
     "text": [
      "9145: []\n",
      "\n",
      "================================================================\n",
      "ELF1: []\n",
      "\n",
      "1997: []\n",
      "\n",
      "SYNGR1: []\n",
      "\n",
      "9145: []\n",
      "\n",
      "================================================================\n",
      "ELF1: []\n",
      "\n",
      "1997: ['0005509 // calcium ion binding // inferred from direct assay /// 0005509 // calcium ion binding // inferred from sequence or structural similarity /// 0005509 // calcium ion binding // inferred from electronic annotation /// 0005515 // protein binding // inferred from physical interaction /// 0005515 // protein binding // inferred from electronic annotation /// 0016301 // kinase activity // inferred from electronic annotation /// 0019904 // protein domain specific binding // inferred from physical interaction /// 0031432 // titin binding // inferred from physical interaction /// 0031997 // N-terminal myristoylation domain binding // inferred from physical interaction', '0005509 // calcium ion binding // inferred from electronic annotation /// 0005509 // calcium ion binding // inferred from direct assay /// 0005509 // calcium ion binding // inferred from sequence or structural similarity /// 0005515 // protein binding // inferred from electronic annotation /// 0005515 // protein binding // inferred from physical interaction /// 0016301 // kinase activity // inferred from electronic annotation /// 0019904 // protein domain specific binding // inferred from physical interaction /// 0031432 // titin binding // inferred from physical interaction /// 0031997 // N-terminal myristoylation domain binding // inferred from physical interaction', '0004872 // receptor activity // inferred from electronic annotation /// 0004896 // cytokine receptor activity // inferred from electronic annotation /// 0004911 // interleukin-2 receptor activity // traceable author statement /// 0004913 // interleukin-4 receptor activity // traceable author statement /// 0004917 // interleukin-7 receptor activity // traceable author statement /// 0005515 // protein binding // inferred from physical interaction /// 0019976 // interleukin-2 binding // inferred from sequence or structural similarity /// 0019976 // interleukin-2 binding // inferred from electronic annotation /// 0019982 // interleukin-7 binding // inferred from electronic annotation', '0004872 // receptor activity // inferred from electronic annotation /// 0004896 // cytokine receptor activity // inferred from electronic annotation /// 0004911 // interleukin-2 receptor activity // inferred from direct assay /// 0004911 // interleukin-2 receptor activity // traceable author statement /// 0019976 // interleukin-2 binding // inferred from sequence or structural similarity /// 0019976 // interleukin-2 binding // inferred from electronic annotation']\n",
      "\n",
      "SYNGR1: []\n",
      "\n",
      "9145: ['0004029 // aldehyde dehydrogenase (NAD) activity // inferred from direct assay /// 0004029 // aldehyde dehydrogenase (NAD) activity // inferred from electronic annotation /// 0016491 // oxidoreductase activity // inferred from electronic annotation /// 0019145 // aminobutyraldehyde dehydrogenase activity // inferred from direct assay /// 0019145 // aminobutyraldehyde dehydrogenase activity // inferred from electronic annotation /// 0042803 // protein homodimerization activity // inferred from electronic annotation /// 0043176 // amine binding // inferred from electronic annotation /// 0047105 // 4-trimethylammoniobutyraldehyde dehydrogenase activity // inferred from electronic annotation /// 0051287 // NAD or NADH binding // inferred from electronic annotation']\n",
      "\n",
      "================================================================\n"
     ]
    }
   ],
   "source": [
    "for column in gpl.table.columns: \n",
    "    check(list(gpl.table[column].fillna('nan').unique())) \n",
    "    print(\"================================================================\")"
   ]
  },
  {
   "cell_type": "code",
   "execution_count": 17,
   "id": "42ead428",
   "metadata": {},
   "outputs": [
    {
     "name": "stdout",
     "output_type": "stream",
     "text": [
      "ELF1: []\n",
      "\n",
      "1997: ['1561997_PM_at', '201997_PM_s_at', '211997_PM_x_at', '219970_PM_at', '219971_PM_at', '219972_PM_s_at', '219973_PM_at', '219974_PM_x_at', '219975_PM_x_at', '219976_PM_at', '219977_PM_at', '219978_PM_s_at', '219979_PM_s_at', '221997_PM_s_at', '231997_PM_at', '241997_PM_at']\n",
      "\n",
      "SYNGR1: []\n",
      "\n",
      "9145: ['1559145_PM_at', '209145_PM_s_at', '219145_PM_at', '229145_PM_at', '239145_PM_at']\n",
      "\n"
     ]
    }
   ],
   "source": [
    "check(list(gpl.table['ID'].fillna('nan').unique())) \n"
   ]
  },
  {
   "cell_type": "code",
   "execution_count": null,
   "id": "628a5427",
   "metadata": {},
   "outputs": [],
   "source": []
  }
 ],
 "metadata": {
  "kernelspec": {
   "display_name": "Python 3 (ipykernel)",
   "language": "python",
   "name": "python3"
  },
  "language_info": {
   "codemirror_mode": {
    "name": "ipython",
    "version": 3
   },
   "file_extension": ".py",
   "mimetype": "text/x-python",
   "name": "python",
   "nbconvert_exporter": "python",
   "pygments_lexer": "ipython3",
   "version": "3.9.13"
  }
 },
 "nbformat": 4,
 "nbformat_minor": 5
}
